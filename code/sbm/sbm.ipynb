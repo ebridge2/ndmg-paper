{
 "cells": [
  {
   "cell_type": "markdown",
   "metadata": {},
   "source": [
    "# Stochastic Block Model Application to weighted MRI Connectomes\n",
    "\n",
    "# Setting\n",
    "\n",
    "## Task\n",
    "\n",
    "Given: \n",
    "\n",
    "+ $n$ samples of diffusion connectomes, $D = \\left\\{d_i\\right\\}_{i=1}^n$ where $d_i  = (E, V, w)$ for $|V|$ regions of interest and $w(v_i, v_j) = w_{ij} \\in [0, 1]$.\n",
    "+ $m$ samples of functional connectomes, $F = \\left\\{f_i\\right\\}_{i=1}^m$ where $f_i = (E, V, w)$ for $|V|$ regions of interest and $w(v_i, v_j) = w_{ij} \\in [0, 1]$.\n",
    "+ a partitioning of the vertices into $C_1$, the left hemisphere ROIs, and $C_2$, the right hemisphere ROIs, where $C_1 \\cup C_2 = V$.\n",
    "\n",
    "Determine if there exists a difference in the connectivity among the vertices in $C_1$ and $C_2$, and between the communities $C_1$ and $C_2$, for the functional vs diffusion connectomes. \n",
    "\n",
    "## Statistical Goal\n",
    "\n",
    "1) Given the following random variables $I, C$:\n",
    "\n",
    "\\begin{align*}\n",
    "    I &= \\mathcal{N}\\left(\\mu_I, \\sigma_I\\right) \\\\\n",
    "    C &= \\mathcal{N}\\left(\\mu_C, \\sigma_C\\right)\n",
    "\\end{align*}\n",
    "\n",
    "with $H_0: \\mu_I = \\mu_C$, $H_A: \\mu_I \\neq \\mu_C$, determine determine $\\mathbb{P}(\\textrm{reject $H_0$ in favor of $H_A$})$.\n",
    "\n",
    "here, $\\mu_I$ represents the average connection strength of ipsilateral edges and $\\mu_C$ represents the average connection strength of contralateral edges, and $\\sigma_I, \\sigma_C$ the respective variance (where the edges we are using here are derived from the megameans from each population). \n",
    "\n",
    "Repeat for both Diffusion, and Functional, connectomes.\n",
    "\n",
    "2) Given the following random variables $D, F$:\n",
    "\n",
    "\\begin{align*}\n",
    "    D &\\sim \\mathcal{N}\\left(\\mu_D, \\Sigma_D\\right) \\\\\n",
    "    \\mu_D &= \\begin{bmatrix}D_{11} \\\\ D_{12} \\\\ D_{22}\\end{bmatrix} \\\\\n",
    "    \\Sigma_D &= \\begin{bmatrix}\n",
    "    \\frac{D_{11}(1 - D_{11})}{\\begin{pmatrix}n \\\\ 2\\end{pmatrix}} & 0 & 0 \\\\\n",
    "    0 & \\frac{D_{12}(1 - D_{12})}{\\left(\\frac{n}{2}\\right)^2} & 0 \\\\\n",
    "    0 & 0 & \\frac{D_{22}(1 - D_{22})}{\\begin{pmatrix}n \\\\ 2\\end{pmatrix}}\n",
    "    \\end{bmatrix}\n",
    "\\end{align*}\n",
    "\n",
    "\\begin{align*}\n",
    "    F &\\sim \\mathcal{N}\\left(\\mu_F, \\Sigma_F\\right) \\\\\n",
    "    \\mu_F &= \\begin{bmatrix}F_{11} \\\\ F_{12} \\\\ F_{22}\\end{bmatrix} \\\\\n",
    "    \\Sigma_F &= \\begin{bmatrix}\n",
    "    \\frac{F_{11}(1 - F_{11})}{\\begin{pmatrix}n \\\\ 2\\end{pmatrix}} & 0 & 0 \\\\\n",
    "    0 & \\frac{F_{12}(1 - F_{12})}{\\left(\\frac{n}{2}\\right)^2} & 0 \\\\\n",
    "    0 & 0 & \\frac{F_{22}(1 - F_{22})}{\\begin{pmatrix}n \\\\ 2\\end{pmatrix}}\n",
    "    \\end{bmatrix}\n",
    "\\end{align*}\n",
    "\n",
    "with $H_0: \\mu_D = \\mu_F$, $H_A: \\mu_D \\neq \\mu_F$, determine $\\mathbb{P}(\\textrm{reject $H_0$ in favor of $H_A$})$."
   ]
  },
  {
   "cell_type": "code",
   "execution_count": null,
   "metadata": {
    "collapsed": true
   },
   "outputs": [],
   "source": []
  }
 ],
 "metadata": {
  "kernelspec": {
   "display_name": "Python 2",
   "language": "python",
   "name": "python2"
  },
  "language_info": {
   "codemirror_mode": {
    "name": "ipython",
    "version": 2
   },
   "file_extension": ".py",
   "mimetype": "text/x-python",
   "name": "python",
   "nbconvert_exporter": "python",
   "pygments_lexer": "ipython2",
   "version": "2.7.12"
  }
 },
 "nbformat": 4,
 "nbformat_minor": 2
}
